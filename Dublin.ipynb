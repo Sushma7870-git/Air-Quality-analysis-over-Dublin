{
 "cells": [
  {
   "cell_type": "code",
   "execution_count": null,
   "id": "a9667065",
   "metadata": {},
   "outputs": [],
   "source": [
    "import geemap   # Please update the geemap package for a better experience\n",
    "import ee\n",
    "import os\n",
    "#ee.Authenticate()   # For very first time user Authentication is required\n",
    "ee.Initialize()"
   ]
  },
  {
   "cell_type": "code",
   "execution_count": 18,
   "id": "aa04c53d",
   "metadata": {},
   "outputs": [
    {
     "data": {
      "application/vnd.jupyter.widget-view+json": {
       "model_id": "505a5d4cda4f4a79942d449321ba5ba7",
       "version_major": 2,
       "version_minor": 0
      },
      "text/plain": [
       "Map(center=[53.4, -6.3], controls=(WidgetControl(options=['position', 'transparent_bg'], widget=HBox(children=…"
      ]
     },
     "metadata": {},
     "output_type": "display_data"
    }
   ],
   "source": [
    "Map = geemap.Map(center = [53.4, -6.3], zoom=10)\n",
    "Map"
   ]
  },
  {
   "cell_type": "code",
   "execution_count": 19,
   "id": "118ef841",
   "metadata": {},
   "outputs": [],
   "source": [
    "# Importing the India shapefile and adding to map as a layer\n",
    "Dublin_shp = 'Dublin/cliped.shp'\n",
    "Dublin = geemap.shp_to_ee(Dublin_shp)\n",
    "Map.addLayer(Dublin, {}, 'Dublin')"
   ]
  },
  {
   "cell_type": "markdown",
   "id": "2da507d6",
   "metadata": {},
   "source": [
    "# Importing Data"
   ]
  },
  {
   "cell_type": "code",
   "execution_count": 20,
   "id": "fa4a4d90",
   "metadata": {},
   "outputs": [],
   "source": [
    "NO2 = ee.ImageCollection('COPERNICUS/S5P/NRTI/L3_NO2').select('tropospheric_NO2_column_number_density')\n",
    "SO2 = ee.ImageCollection('COPERNICUS/S5P/NRTI/L3_SO2').select('SO2_column_number_density')\n",
    "CO = ee.ImageCollection('COPERNICUS/S5P/NRTI/L3_CO').select('CO_column_number_density')\n",
    "O3 = ee.ImageCollection('COPERNICUS/S5P/NRTI/L3_O3').select('O3_column_number_density')\n",
    "AOD = ee.ImageCollection('MODIS/006/MCD19A2_GRANULES').select('Optical_Depth_055')"
   ]
  },
  {
   "cell_type": "markdown",
   "id": "9b57eb21",
   "metadata": {},
   "source": [
    "# NO2 Analysis"
   ]
  },
  {
   "cell_type": "code",
   "execution_count": 21,
   "id": "0c32185f",
   "metadata": {},
   "outputs": [],
   "source": [
    "##Importing NO2 data (tropospheric NO2 column number density in mol/m^2) from GEE Image collection\n",
    "NO2_2019 = NO2.filterDate('2019-01-01', '2019-12-31').mean().clip(Dublin)\n",
    "NO2_2020 = NO2.filterDate('2020-01-01', '2020-12-31').mean().clip(Dublin)\n",
    "\n",
    "vizNO2 = {\n",
    "  'min': 0,\n",
    "  'max': 0.0001,\n",
    "  'palette': ['blue','aqua', 'yellow', 'orange', 'red']\n",
    "}\n",
    "\n",
    "Map.addLayer(NO2_2019, vizNO2, 'NO2_2019')\n",
    "Map.addLayer(NO2_2020, vizNO2, 'NO2_2020')\n",
    "\n",
    "palette = ['blue','aqua', 'yellow', 'orange', 'red']\n",
    "Map.add_colorbar(palette, vmin=0, vmax=0.0001, layer_name='NO2', position='bottomright')"
   ]
  },
  {
   "cell_type": "code",
   "execution_count": 6,
   "id": "e78d4d25",
   "metadata": {},
   "outputs": [],
   "source": [
    "## Lockdown was imposed between 27 March to 5 June in four phases, so 25 March to 31 May period is taken for the analysis\n",
    "\n",
    "lock_2019_NO2 = NO2.filterDate('2019-03-27', '2019-06-05').mean().clip(Dublin)\n",
    "lock_2020_NO2 = NO2.filterDate('2020-03-27', '2020-06-05').mean().clip(Dublin)\n",
    "\n",
    "Map.addLayer(lock_2019_NO2, vizNO2, 'lock_2019_NO2')\n",
    "Map.addLayer(lock_2020_NO2, vizNO2, 'lock_2020_NO2')"
   ]
  },
  {
   "cell_type": "code",
   "execution_count": 22,
   "id": "6e61c554",
   "metadata": {},
   "outputs": [],
   "source": [
    "#/Lockdown impacts on NO2\n",
    "Pre_NO2 = NO2.filterDate('2020-03-01', '2020-03-26').mean().clip(Dublin)\n",
    "\n",
    "phase_I_NO2 = NO2.filterDate('2020-03-27', '2020-04-10').mean().clip(Dublin)\n",
    "\n",
    "phase_II_NO2 = NO2.filterDate('2020-04-11', '2020-05-05').mean().clip(Dublin)\n",
    "\n",
    "phase_III_NO2 = NO2.filterDate('2020-05-06', '2020-05-18').mean().clip(Dublin)\n",
    "\n",
    "phase_IV_NO2 = NO2.filterDate('2020-05-19', '2020-06-05').mean().clip(Dublin)"
   ]
  },
  {
   "cell_type": "code",
   "execution_count": 23,
   "id": "6515a008",
   "metadata": {},
   "outputs": [],
   "source": [
    "Map.addLayer(Pre_NO2, vizNO2, 'Pre_NO2')\n",
    "Map.addLayer(phase_I_NO2, vizNO2, 'phase_I_NO2')\n",
    "Map.addLayer(phase_II_NO2, vizNO2, 'phase_II_NO2')\n",
    "Map.addLayer(phase_III_NO2, vizNO2, 'phase_III_NO2')\n",
    "Map.addLayer(phase_IV_NO2, vizNO2, 'phase_IV_NO2')"
   ]
  },
  {
   "cell_type": "markdown",
   "id": "cb1b457b",
   "metadata": {},
   "source": [
    "# SO2 Analysis"
   ]
  },
  {
   "cell_type": "code",
   "execution_count": 24,
   "id": "a9c3b7dd",
   "metadata": {},
   "outputs": [
    {
     "data": {
      "application/vnd.jupyter.widget-view+json": {
       "model_id": "34b0ed6564684fc3854afbd8b9b9da74",
       "version_major": 2,
       "version_minor": 0
      },
      "text/plain": [
       "Map(center=[53.4, -6.3], controls=(WidgetControl(options=['position', 'transparent_bg'], widget=HBox(children=…"
      ]
     },
     "metadata": {},
     "output_type": "display_data"
    }
   ],
   "source": [
    "Map1 = geemap.Map(center = [53.4, -6.3], zoom=10)\n",
    "\n",
    "##Long term analysis (comparison of 2019 and 2020)\n",
    "\n",
    " # converted from mol/m^2 into µmol/m^2\n",
    "SO2_2019 = SO2.filterDate('2019-01-01', '2019-12-31').mean().clip(Dublin)\n",
    "SO2_2020 = SO2.filterDate('2020-01-01', '2020-12-31').mean().clip(Dublin)\n",
    "\n",
    "vizSO2 = {\n",
    "  'min': 0,\n",
    "  'max': 0.0005,\n",
    "  'palette': ['blue','aqua',  'yellow', 'orange', 'red']\n",
    "}\n",
    "\n",
    "Map1.addLayer(SO2_2019, vizSO2, 'SO2_2019')\n",
    "Map1.addLayer(SO2_2020, vizSO2, 'SO2_2020')\n",
    "Map1.addLayer(Dublin, {}, 'Dublin')\n",
    "palette = ['blue','aqua', 'yellow', 'orange', 'red']\n",
    "Map1.add_colorbar(palette, vmin=0, vmax=0.0005, layer_name='SO2', position='bottomright')\n",
    "Map1"
   ]
  },
  {
   "cell_type": "code",
   "execution_count": 25,
   "id": "3ced81a0",
   "metadata": {},
   "outputs": [],
   "source": [
    "## Lockdown was imposed between 25 March to 31 May in four phases, so 25 March to 31 May period is taken for the analysis\n",
    "\n",
    "lock_2019_SO2 = SO2.filterDate('2019-03-27', '2019-06-05').mean().clip(Dublin)\n",
    "lock_2020_SO2 = SO2.filterDate('2020-03-27', '2020-06-05').mean().clip(Dublin)\n",
    "\n",
    "Map1.addLayer(lock_2019_SO2, vizSO2, 'lock_2019_SO2')\n",
    "Map1.addLayer(lock_2020_SO2, vizSO2, 'lock_2020_SO2')"
   ]
  },
  {
   "cell_type": "code",
   "execution_count": 26,
   "id": "99c40954",
   "metadata": {},
   "outputs": [],
   "source": [
    "#/Lockdown impacts on NO2\n",
    "Pre_SO2 = SO2.filterDate('2020-03-01', '2020-03-26').mean().clip(Dublin)\n",
    "\n",
    "phase_I_SO2 = SO2.filterDate('2020-03-27', '2020-04-10').mean().clip(Dublin)\n",
    "\n",
    "phase_II_SO2 = SO2.filterDate('2020-04-11', '2020-05-05').mean().clip(Dublin)\n",
    "\n",
    "phase_III_SO2 = SO2.filterDate('2020-05-06', '2020-05-18').mean().clip(Dublin)\n",
    "\n",
    "phase_IV_SO2 = SO2.filterDate('2020-05-19', '2020-06-05').mean().clip(Dublin)"
   ]
  },
  {
   "cell_type": "code",
   "execution_count": 27,
   "id": "e6d8edbf",
   "metadata": {},
   "outputs": [],
   "source": [
    "Map1.addLayer(Pre_SO2, vizSO2, 'Pre_SO2')\n",
    "Map1.addLayer(phase_I_SO2, vizSO2, 'phase_I_SO2')\n",
    "Map1.addLayer(phase_II_SO2, vizSO2, 'phase_II_SO2')\n",
    "Map1.addLayer(phase_III_SO2, vizSO2, 'phase_III_SO2')\n",
    "Map1.addLayer(phase_IV_SO2, vizSO2, 'phase_IV_SO2')"
   ]
  },
  {
   "cell_type": "markdown",
   "id": "ec668860",
   "metadata": {},
   "source": [
    "# CO Analysis"
   ]
  },
  {
   "cell_type": "code",
   "execution_count": 28,
   "id": "e9e1c20e",
   "metadata": {},
   "outputs": [
    {
     "data": {
      "application/vnd.jupyter.widget-view+json": {
       "model_id": "446033a452984465bb2eb08408556aa7",
       "version_major": 2,
       "version_minor": 0
      },
      "text/plain": [
       "Map(center=[53.4, -6.3], controls=(WidgetControl(options=['position', 'transparent_bg'], widget=HBox(children=…"
      ]
     },
     "metadata": {},
     "output_type": "display_data"
    }
   ],
   "source": [
    "Map2 = geemap.Map(center = [53.4, -6.3], zoom=10)\n",
    "\n",
    "##Long term analysis (comparison of 2019 and 2020)\n",
    "\n",
    "  \n",
    "CO_2019 = CO.filterDate('2019-01-01', '2019-12-31').mean().clip(Dublin)  # In mol/m^2\n",
    "CO_2020 = CO.filterDate('2020-01-01', '2020-12-31').mean().clip(Dublin)\n",
    "\n",
    "vizCO = {\n",
    "  'min': 0.03,\n",
    "  'max': 0.045,\n",
    "  'palette': ['blue','aqua',  'yellow', 'orange', 'red']\n",
    "}\n",
    "\n",
    "Map2.addLayer(CO_2019, vizCO, 'CO_2019')\n",
    "Map2.addLayer(CO_2020, vizCO, 'CO_2020')\n",
    "Map2.addLayer(Dublin, {}, 'Dublin')\n",
    "palette = ['blue','aqua', 'yellow', 'orange', 'red']\n",
    "Map2.add_colorbar(palette, vmin=0.03, vmax=0.045, layer_name='CO', position='bottomright')\n",
    "Map2"
   ]
  },
  {
   "cell_type": "code",
   "execution_count": 29,
   "id": "a5ff4b7b",
   "metadata": {},
   "outputs": [],
   "source": [
    "## Lockdown was imposed between 25 March to 31 May in four phases, so 25 March to 31 May period is taken for the analysis\n",
    "\n",
    "lock_2019_CO = CO.filterDate('2019-03-27', '2019-06-05').mean().clip(Dublin)\n",
    "lock_2020_CO = CO.filterDate('2020-03-27', '2020-06-05').mean().clip(Dublin)\n",
    "\n",
    "Map2.addLayer(lock_2019_CO, vizCO, 'lock_2019_CO')\n",
    "Map2.addLayer(lock_2020_CO, vizCO, 'lock_2020_CO')"
   ]
  },
  {
   "cell_type": "code",
   "execution_count": 30,
   "id": "aeb51231",
   "metadata": {},
   "outputs": [],
   "source": [
    "#/Lockdown impacts on CO\n",
    "Pre_CO = CO.filterDate('2020-03-01', '2020-03-26').mean().clip(Dublin)\n",
    "\n",
    "phase_I_CO = CO.filterDate('2020-03-27', '2020-04-10').mean().clip(Dublin)\n",
    "\n",
    "phase_II_CO = CO.filterDate('2020-04-11', '2020-05-05').mean().clip(Dublin)\n",
    "\n",
    "phase_III_CO = CO.filterDate('2020-05-06', '2020-05-18').mean().clip(Dublin)\n",
    "\n",
    "phase_IV_CO = CO.filterDate('2020-05-19', '2020-06-05').mean().clip(Dublin)"
   ]
  },
  {
   "cell_type": "code",
   "execution_count": 31,
   "id": "db2eab0e",
   "metadata": {},
   "outputs": [],
   "source": [
    "Map2.addLayer(Pre_CO, vizCO, 'Pre_CO')\n",
    "Map2.addLayer(phase_I_CO, vizCO, 'phase_I_CO')\n",
    "Map2.addLayer(phase_II_CO, vizCO, 'phase_II_CO')\n",
    "Map2.addLayer(phase_III_CO, vizCO, 'phase_III_CO')\n",
    "Map2.addLayer(phase_IV_CO, vizCO, 'phase_IV_CO')"
   ]
  },
  {
   "cell_type": "markdown",
   "id": "5ddafe1a",
   "metadata": {},
   "source": [
    "# O3 Analysis"
   ]
  },
  {
   "cell_type": "code",
   "execution_count": 32,
   "id": "381aeb3e",
   "metadata": {},
   "outputs": [
    {
     "data": {
      "application/vnd.jupyter.widget-view+json": {
       "model_id": "6daec2e7ff67492aad12f7999a2bbeff",
       "version_major": 2,
       "version_minor": 0
      },
      "text/plain": [
       "Map(center=[53.4, -6.3], controls=(WidgetControl(options=['position', 'transparent_bg'], widget=HBox(children=…"
      ]
     },
     "metadata": {},
     "output_type": "display_data"
    }
   ],
   "source": [
    "Map3 = geemap.Map(center = [53.4, -6.3], zoom=10)\n",
    "\n",
    "##Long term analysis (comparison of 2019 and 2020)\n",
    "\n",
    "  \n",
    "O3_2019 = O3.filterDate('2019-01-01', '2019-12-31').mean().clip(Dublin)  # In mol/m^2\n",
    "O3_2020 = O3.filterDate('2020-01-01', '2020-12-31').mean().clip(Dublin)\n",
    "\n",
    "vizO3 = {\n",
    "  'min': 0.145,\n",
    "  'max': 0.155,\n",
    "  'palette': ['blue','aqua',  'yellow', 'orange', 'red']\n",
    "}\n",
    "Map3.addLayer(Dublin, {}, 'Dublin')\n",
    "Map3.addLayer(O3_2019, vizO3, 'O3_2019')\n",
    "Map3.addLayer(O3_2020, vizO3, 'O3_2020')\n",
    "\n",
    "palette = ['blue','aqua', 'yellow', 'orange', 'red']\n",
    "Map3.add_colorbar(palette, vmin=0.145, vmax=0.155, layer_name='O3', position='bottomright')\n",
    "Map3"
   ]
  },
  {
   "cell_type": "code",
   "execution_count": 33,
   "id": "bf66d5c5",
   "metadata": {},
   "outputs": [],
   "source": [
    "## Lockdown was imposed between 25 March to 31 May in four phases, so 25 March to 31 May period is taken for the analysis\n",
    "\n",
    "lock_2019_O3 = O3.filterDate('2019-03-27', '2019-06-05').mean().clip(Dublin)\n",
    "lock_2020_O3 = O3.filterDate('2020-03-27', '2020-06-05').mean().clip(Dublin)\n",
    "\n",
    "Map3.addLayer(lock_2019_O3, vizO3, 'lock_2019_O3')\n",
    "Map3.addLayer(lock_2020_O3, vizO3, 'lock_2020_O3')"
   ]
  },
  {
   "cell_type": "code",
   "execution_count": 34,
   "id": "38d47460",
   "metadata": {},
   "outputs": [],
   "source": [
    "#/Lockdown impacts on CO\n",
    "Pre_O3 = O3.filterDate('2020-03-01', '2020-03-26').mean().clip(Dublin)\n",
    "\n",
    "phase_I_O3 = O3.filterDate('2020-03-27', '2020-04-10').mean().clip(Dublin)\n",
    "\n",
    "phase_II_O3 = O3.filterDate('2020-04-11', '2020-05-05').mean().clip(Dublin)\n",
    "\n",
    "phase_III_O3 = O3.filterDate('2020-05-06', '2020-05-18').mean().clip(Dublin)\n",
    "\n",
    "phase_IV_O3 = O3.filterDate('2020-05-19', '2020-06-05').mean().clip(Dublin)"
   ]
  },
  {
   "cell_type": "code",
   "execution_count": 35,
   "id": "1d4bdf45",
   "metadata": {},
   "outputs": [],
   "source": [
    "Map3.addLayer(Pre_O3, vizO3, 'Pre_O3')\n",
    "Map3.addLayer(phase_I_O3, vizO3, 'phase_I_O3')\n",
    "Map3.addLayer(phase_II_O3, vizO3, 'phase_II_O3')\n",
    "Map3.addLayer(phase_III_O3, vizO3, 'phase_III_O3')\n",
    "Map3.addLayer(phase_IV_O3, vizO3, 'phase_IV_O3')"
   ]
  },
  {
   "cell_type": "markdown",
   "id": "19dab8e9",
   "metadata": {},
   "source": [
    "# AOD Analysis"
   ]
  },
  {
   "cell_type": "code",
   "execution_count": 36,
   "id": "c5c85deb",
   "metadata": {},
   "outputs": [
    {
     "data": {
      "application/vnd.jupyter.widget-view+json": {
       "model_id": "7fac4830c4464a6d970b7efac70cacaa",
       "version_major": 2,
       "version_minor": 0
      },
      "text/plain": [
       "Map(center=[53.4, -6.3], controls=(WidgetControl(options=['position', 'transparent_bg'], widget=HBox(children=…"
      ]
     },
     "metadata": {},
     "output_type": "display_data"
    }
   ],
   "source": [
    "Map4 = geemap.Map(center = [53.4, -6.3], zoom=10)\n",
    "\n",
    "##Long term analysis (comparison of 2019 and 2020)\n",
    "\n",
    "  \n",
    "AOD_2019 = AOD.filterDate('2019-01-01', '2019-12-31').mean().multiply(0.001).clip(Dublin)  \n",
    "AOD_2020 = AOD.filterDate('2020-01-01', '2020-12-31').mean().multiply(0.001).clip(Dublin)\n",
    "\n",
    "vizAOD = {\n",
    "  'min': 0,\n",
    "  'max': 0.5,\n",
    "  'palette': ['blue', 'aqua',  'yellow', 'orange', 'red']\n",
    "}\n",
    "Map4.addLayer(Dublin, {}, 'Dublin')\n",
    "Map4.addLayer(AOD_2019, vizAOD, 'AOD_2019')\n",
    "Map4.addLayer(AOD_2020, vizAOD, 'AOD_2020')\n",
    "\n",
    "palette = ['blue', 'aqua', 'yellow', 'orange', 'red']\n",
    "Map4.add_colorbar(palette, vmin=0, vmax=0.5, layer_name='AOD', position='bottomright')\n",
    "Map4"
   ]
  },
  {
   "cell_type": "code",
   "execution_count": 37,
   "id": "abfd0169",
   "metadata": {},
   "outputs": [],
   "source": [
    "## Lockdown was imposed between 25 March to 31 May in four phases, so 25 March to 31 May period is taken for the analysis\n",
    "\n",
    "lock_2019_AOD = AOD.filterDate('2019-03-25', '2019-05-31').mean().multiply(0.001).clip(Dublin)\n",
    "lock_2020_AOD = AOD.filterDate('2020-03-25', '2020-05-31').mean().multiply(0.001).clip(Dublin)\n",
    "\n",
    "Map4.addLayer(lock_2019_AOD, vizAOD, 'lock_2019_AOD')\n",
    "Map4.addLayer(lock_2020_AOD, vizAOD, 'lock_2020_AOD')"
   ]
  },
  {
   "cell_type": "code",
   "execution_count": 38,
   "id": "0ec4e2f6",
   "metadata": {},
   "outputs": [],
   "source": [
    "#/Lockdown impacts on AOD\n",
    "Pre_AOD = AOD.filterDate('2020-03-01', '2020-03-26').mean().multiply(0.001).clip(Dublin)\n",
    "\n",
    "phase_I_AOD = AOD.filterDate('2020-03-27', '2020-04-10').mean().multiply(0.001).clip(Dublin)\n",
    "\n",
    "phase_II_AOD = AOD.filterDate('2020-04-11', '2020-05-05').mean().multiply(0.001).clip(Dublin)\n",
    "\n",
    "phase_III_AOD = AOD.filterDate('2020-05-06', '2020-05-18').mean().multiply(0.001).clip(Dublin)\n",
    "\n",
    "phase_IV_AOD = AOD.filterDate('2020-05-19', '2020-06-05').mean().multiply(0.001).clip(Dublin)"
   ]
  },
  {
   "cell_type": "code",
   "execution_count": 29,
   "id": "379515bf",
   "metadata": {},
   "outputs": [],
   "source": [
    "Map4.addLayer(Pre_AOD, vizAOD, 'Pre_AOD')\n",
    "Map4.addLayer(phase_I_AOD, vizAOD, 'phase_I_AOD')\n",
    "Map4.addLayer(phase_II_AOD, vizAOD, 'phase_II_AOD')\n",
    "Map4.addLayer(phase_III_AOD, vizAOD, 'phase_III_AOD')\n",
    "Map4.addLayer(phase_IV_AOD, vizAOD, 'phase_IV_AOD')"
   ]
  },
  {
   "cell_type": "markdown",
   "id": "6661f519",
   "metadata": {},
   "source": [
    "# Time Series Analysis"
   ]
  },
  {
   "cell_type": "code",
   "execution_count": 4,
   "id": "30063b4f",
   "metadata": {},
   "outputs": [],
   "source": [
    "import matplotlib.pyplot as plt\n",
    "import pandas as pd\n",
    "import json\n",
    "import seaborn as sns"
   ]
  },
  {
   "cell_type": "code",
   "execution_count": 5,
   "id": "13dfdcc5",
   "metadata": {},
   "outputs": [],
   "source": [
    "No2 = ee.ImageCollection('COPERNICUS/S5P/NRTI/L3_NO2') \\\n",
    "              .filter(ee.Filter.Or(\n",
    "                  ee.Filter.date('2019-03-01', '2019-06-05'),\n",
    "                  ee.Filter.date('2020-03-01', '2020-06-05')))"
   ]
  },
  {
   "cell_type": "code",
   "execution_count": 13,
   "id": "6c43a96e",
   "metadata": {},
   "outputs": [],
   "source": [
    "def roi_mean(img):\n",
    "    mean = img.reduceRegion(reducer=ee.Reducer.mean(), geometry=Dublin, scale=1000).get('tropospheric_NO2_column_number_density')\n",
    "    return img.set('date', img.date().format()).set('mean',mean)"
   ]
  },
  {
   "cell_type": "code",
   "execution_count": 14,
   "id": "35e77b5b",
   "metadata": {},
   "outputs": [],
   "source": [
    "roi_reduced_imgs = No2.map(roi_mean) "
   ]
  },
  {
   "cell_type": "code",
   "execution_count": 15,
   "id": "74a4bf84",
   "metadata": {},
   "outputs": [],
   "source": [
    "imgs_list = roi_reduced_imgs.reduceColumns(ee.Reducer.toList(2), ['date','mean']).values().get(0)"
   ]
  },
  {
   "cell_type": "code",
   "execution_count": null,
   "id": "dd7af05c",
   "metadata": {},
   "outputs": [],
   "source": [
    "df = pd.DataFrame(imgs_list.getInfo(), columns=['date','mean'])"
   ]
  },
  {
   "cell_type": "code",
   "execution_count": null,
   "id": "c3de9e51",
   "metadata": {},
   "outputs": [],
   "source": [
    "df['date'] = pd.to_datetime(df['date'])\n",
    "\n",
    "df = df.set_index('date')\n",
    "df"
   ]
  },
  {
   "cell_type": "code",
   "execution_count": null,
   "id": "f7345e14",
   "metadata": {},
   "outputs": [],
   "source": []
  }
 ],
 "metadata": {
  "kernelspec": {
   "display_name": "Python 3 (ipykernel)",
   "language": "python",
   "name": "python3"
  },
  "language_info": {
   "codemirror_mode": {
    "name": "ipython",
    "version": 3
   },
   "file_extension": ".py",
   "mimetype": "text/x-python",
   "name": "python",
   "nbconvert_exporter": "python",
   "pygments_lexer": "ipython3",
   "version": "3.9.6"
  }
 },
 "nbformat": 4,
 "nbformat_minor": 5
}
